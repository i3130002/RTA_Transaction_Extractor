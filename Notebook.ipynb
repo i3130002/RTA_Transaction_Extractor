{
 "cells": [
  {
   "cell_type": "code",
   "execution_count": 1,
   "metadata": {},
   "outputs": [
    {
     "name": "stdout",
     "output_type": "stream",
     "text": [
      "Works\n"
     ]
    }
   ],
   "source": [
    "print(\"Works\")"
   ]
  },
  {
   "cell_type": "code",
   "execution_count": 2,
   "metadata": {},
   "outputs": [],
   "source": [
    "from selenium import webdriver\n",
    "\n",
    "driver = webdriver.Chrome()\n"
   ]
  },
  {
   "cell_type": "code",
   "execution_count": 3,
   "metadata": {},
   "outputs": [],
   "source": [
    "driver.get(\"https://www.rta.ae/wps/myportal/rta/ae/home/dashboard?lang=en\")\n"
   ]
  },
  {
   "cell_type": "code",
   "execution_count": 4,
   "metadata": {},
   "outputs": [],
   "source": [
    "from dotenv import load_dotenv\n",
    "import os\n",
    "\n",
    "load_dotenv()\n",
    "\n",
    "NOL_CARD = os.getenv(\"RTA_NOL_CARD\")\n",
    "RTA_USERNAME = os.getenv(\"RTA_USERNAME\")\n",
    "RTA_PASSWORD = os.getenv(\"RTA_PASSWORD\")\n"
   ]
  },
  {
   "cell_type": "code",
   "execution_count": 5,
   "metadata": {},
   "outputs": [],
   "source": [
    "from selenium.webdriver.common.by import By\n",
    "\n",
    "username_box = driver.find_element(by=By.NAME, value=\"username\")\n",
    "password_box = driver.find_element(by=By.NAME, value=\"password\")\n",
    "login_btn = driver.find_element(by=By.ID, value=\"btn_login\")\n",
    "\n",
    "# username_box, password_box\n",
    "username_box.send_keys(RTA_USERNAME)\n",
    "password_box.send_keys(RTA_PASSWORD)\n",
    "login_btn.click()"
   ]
  },
  {
   "cell_type": "code",
   "execution_count": 12,
   "metadata": {},
   "outputs": [
    {
     "data": {
      "text/plain": [
       "''"
      ]
     },
     "execution_count": 12,
     "metadata": {},
     "output_type": "execute_result"
    }
   ],
   "source": [
    "driver.get(\"https://www.rta.ae/wps/portal/rta/ae/public-transport/nol/view-history?lang=en\")\n",
    "enter_tag_numer_css = \"#nolRefundFrm > div > div > div.swiper-wrapper > div.swiper-slide.swiper-slide-next.rtaOffice.loggedinTabs\"\n",
    "driver.find_element(by=By.CSS_SELECTOR, value=enter_tag_numer_css).click()\n",
    "driver.find_element(by=By.NAME, value=\"tagId\").send_keys(NOL_CARD)\n",
    "\n",
    "input(\"Mark the captcha and fill it's challange, press next and let me know...\")"
   ]
  },
  {
   "cell_type": "code",
   "execution_count": 13,
   "metadata": {},
   "outputs": [
    {
     "name": "stdout",
     "output_type": "stream",
     "text": [
      "Extraction...\n"
     ]
    }
   ],
   "source": [
    "print(\"Extraction...\")\n",
    "travel_history_css = \"#smartStep_2 > div.smart-step__content > div > div > div:nth-child(5)\"\n",
    "travel_history =driver.find_element(by=By.CSS_SELECTOR, value=travel_history_css)"
   ]
  },
  {
   "cell_type": "code",
   "execution_count": 24,
   "metadata": {},
   "outputs": [],
   "source": [
    "travel_history.get_attribute('innerHTML')\n",
    "\n",
    "travel_history_table = travel_history.find_element(by=By.CLASS_NAME, value=\"ss-table__tbody\")"
   ]
  },
  {
   "cell_type": "code",
   "execution_count": 25,
   "metadata": {},
   "outputs": [
    {
     "data": {
      "text/plain": [
       "126"
      ]
     },
     "execution_count": 25,
     "metadata": {},
     "output_type": "execute_result"
    }
   ],
   "source": [
    "rows_html = travel_history_table.find_elements(by=By.XPATH, value=\"*\")\n",
    "len(rows_html)"
   ]
  },
  {
   "cell_type": "code",
   "execution_count": 27,
   "metadata": {},
   "outputs": [
    {
     "data": {
      "text/plain": [
       "selenium.webdriver.remote.webelement.WebElement"
      ]
     },
     "execution_count": 27,
     "metadata": {},
     "output_type": "execute_result"
    }
   ],
   "source": [
    "type(rows_html[0])"
   ]
  },
  {
   "cell_type": "code",
   "execution_count": 48,
   "metadata": {},
   "outputs": [],
   "source": [
    "rows_html[0].get_attribute(\"innerHTML\")\n",
    "\n",
    "\n",
    "def extract_travel(row: webdriver.remote.webelement.WebElement) -> dict:\n",
    "    def extract(item: webdriver.remote.webelement.WebElement):\n",
    "        return (\n",
    "            item.get_attribute(\"innerHTML\")\n",
    "            .replace(\"\\n\", \"\")\n",
    "            .replace(\"\\t\", \"\")\n",
    "            .replace(r\"\\s{2,}\", \" \")\n",
    "            .strip()\n",
    "        )\n",
    "\n",
    "    def extract_amount(item: webdriver.remote.webelement.WebElement):\n",
    "        return (\n",
    "            item.find_element(by=By.XPATH, value=\"*\")\n",
    "            .get_attribute(\"innerHTML\")\n",
    "            .replace(\"\\n\", \"\")\n",
    "            .replace(\"\\t\", \"\")\n",
    "            .replace(r\"\\s{2,}\", \" \")\n",
    "            .strip()\n",
    "        )\n",
    "\n",
    "    children = row.find_elements(by=By.XPATH, value=\"*\")\n",
    "    nol_tag_id = extract(children[0])\n",
    "    date = extract(children[1])\n",
    "    time = extract(children[2])\n",
    "    trip = extract(children[3])\n",
    "    event = trip.split(\":\")[0].strip()\n",
    "    station = trip.split(\":\")[1].strip()\n",
    "    amount = extract_amount(children[4])\n",
    "    return {\n",
    "        \"nol_tag_id\": nol_tag_id,\n",
    "        \"date\": date,\n",
    "        \"time\": time,\n",
    "        # \"trip\": trip,\n",
    "        \"event\": event,\n",
    "        \"station\": station,\n",
    "        \"amount\": amount,\n",
    "    }"
   ]
  },
  {
   "cell_type": "code",
   "execution_count": 49,
   "metadata": {},
   "outputs": [
    {
     "data": {
      "text/plain": [
       "[{'nol_tag_id': '0292627163',\n",
       "  'date': '20/09/24',\n",
       "  'time': '05:25 PM',\n",
       "  'event': 'Check-out',\n",
       "  'station': 'Business Bay Metro Station',\n",
       "  'amount': '7.5'},\n",
       " {'nol_tag_id': '0292627163',\n",
       "  'date': '20/09/24',\n",
       "  'time': '05:14 PM',\n",
       "  'event': 'Check-in',\n",
       "  'station': 'World Trade Centre Metro Station',\n",
       "  'amount': '-7.5'},\n",
       " {'nol_tag_id': '0292627163',\n",
       "  'date': '20/09/24',\n",
       "  'time': '08:41 AM',\n",
       "  'event': 'Check-out',\n",
       "  'station': 'World Trade Centre Metro Station',\n",
       "  'amount': '7.5'}]"
      ]
     },
     "execution_count": 49,
     "metadata": {},
     "output_type": "execute_result"
    }
   ],
   "source": [
    "travels = [extract_travel(row) for row in rows_html]\n",
    "travels[:3]"
   ]
  },
  {
   "cell_type": "code",
   "execution_count": 51,
   "metadata": {},
   "outputs": [
    {
     "data": {
      "text/html": [
       "<div>\n",
       "<style scoped>\n",
       "    .dataframe tbody tr th:only-of-type {\n",
       "        vertical-align: middle;\n",
       "    }\n",
       "\n",
       "    .dataframe tbody tr th {\n",
       "        vertical-align: top;\n",
       "    }\n",
       "\n",
       "    .dataframe thead th {\n",
       "        text-align: right;\n",
       "    }\n",
       "</style>\n",
       "<table border=\"1\" class=\"dataframe\">\n",
       "  <thead>\n",
       "    <tr style=\"text-align: right;\">\n",
       "      <th></th>\n",
       "      <th>nol_tag_id</th>\n",
       "      <th>date</th>\n",
       "      <th>time</th>\n",
       "      <th>event</th>\n",
       "      <th>station</th>\n",
       "      <th>amount</th>\n",
       "    </tr>\n",
       "  </thead>\n",
       "  <tbody>\n",
       "    <tr>\n",
       "      <th>0</th>\n",
       "      <td>0292627163</td>\n",
       "      <td>20/09/24</td>\n",
       "      <td>05:25 PM</td>\n",
       "      <td>Check-out</td>\n",
       "      <td>Business Bay Metro Station</td>\n",
       "      <td>7.5</td>\n",
       "    </tr>\n",
       "    <tr>\n",
       "      <th>1</th>\n",
       "      <td>0292627163</td>\n",
       "      <td>20/09/24</td>\n",
       "      <td>05:14 PM</td>\n",
       "      <td>Check-in</td>\n",
       "      <td>World Trade Centre Metro Station</td>\n",
       "      <td>-7.5</td>\n",
       "    </tr>\n",
       "    <tr>\n",
       "      <th>2</th>\n",
       "      <td>0292627163</td>\n",
       "      <td>20/09/24</td>\n",
       "      <td>08:41 AM</td>\n",
       "      <td>Check-out</td>\n",
       "      <td>World Trade Centre Metro Station</td>\n",
       "      <td>7.5</td>\n",
       "    </tr>\n",
       "    <tr>\n",
       "      <th>3</th>\n",
       "      <td>0292627163</td>\n",
       "      <td>20/09/24</td>\n",
       "      <td>08:31 AM</td>\n",
       "      <td>Check-in</td>\n",
       "      <td>Business Bay Metro Station</td>\n",
       "      <td>-7.5</td>\n",
       "    </tr>\n",
       "    <tr>\n",
       "      <th>4</th>\n",
       "      <td>0292627163</td>\n",
       "      <td>19/09/24</td>\n",
       "      <td>05:27 PM</td>\n",
       "      <td>Check-out</td>\n",
       "      <td>Business Bay Metro Station</td>\n",
       "      <td>7.5</td>\n",
       "    </tr>\n",
       "    <tr>\n",
       "      <th>...</th>\n",
       "      <td>...</td>\n",
       "      <td>...</td>\n",
       "      <td>...</td>\n",
       "      <td>...</td>\n",
       "      <td>...</td>\n",
       "      <td>...</td>\n",
       "    </tr>\n",
       "    <tr>\n",
       "      <th>121</th>\n",
       "      <td>0292627163</td>\n",
       "      <td>21/08/24</td>\n",
       "      <td>07:25 PM</td>\n",
       "      <td>Check-in</td>\n",
       "      <td>Emirates Towers Metro Station</td>\n",
       "      <td>-7.5</td>\n",
       "    </tr>\n",
       "    <tr>\n",
       "      <th>122</th>\n",
       "      <td>0292627163</td>\n",
       "      <td>21/08/24</td>\n",
       "      <td>06:57 PM</td>\n",
       "      <td>Check-out</td>\n",
       "      <td>Emirates Towers Metro Station</td>\n",
       "      <td>7.5</td>\n",
       "    </tr>\n",
       "    <tr>\n",
       "      <th>123</th>\n",
       "      <td>0292627163</td>\n",
       "      <td>21/08/24</td>\n",
       "      <td>06:52 PM</td>\n",
       "      <td>Check-in</td>\n",
       "      <td>World Trade Centre Metro Station</td>\n",
       "      <td>-7.5</td>\n",
       "    </tr>\n",
       "    <tr>\n",
       "      <th>124</th>\n",
       "      <td>0292627163</td>\n",
       "      <td>21/08/24</td>\n",
       "      <td>08:37 AM</td>\n",
       "      <td>Check-out</td>\n",
       "      <td>World Trade Centre Metro Station</td>\n",
       "      <td>7.5</td>\n",
       "    </tr>\n",
       "    <tr>\n",
       "      <th>125</th>\n",
       "      <td>0292627163</td>\n",
       "      <td>21/08/24</td>\n",
       "      <td>08:28 AM</td>\n",
       "      <td>Check-in</td>\n",
       "      <td>Business Bay Metro Station</td>\n",
       "      <td>-7.5</td>\n",
       "    </tr>\n",
       "  </tbody>\n",
       "</table>\n",
       "<p>126 rows × 6 columns</p>\n",
       "</div>"
      ],
      "text/plain": [
       "     nol_tag_id      date      time      event  \\\n",
       "0    0292627163  20/09/24  05:25 PM  Check-out   \n",
       "1    0292627163  20/09/24  05:14 PM   Check-in   \n",
       "2    0292627163  20/09/24  08:41 AM  Check-out   \n",
       "3    0292627163  20/09/24  08:31 AM   Check-in   \n",
       "4    0292627163  19/09/24  05:27 PM  Check-out   \n",
       "..          ...       ...       ...        ...   \n",
       "121  0292627163  21/08/24  07:25 PM   Check-in   \n",
       "122  0292627163  21/08/24  06:57 PM  Check-out   \n",
       "123  0292627163  21/08/24  06:52 PM   Check-in   \n",
       "124  0292627163  21/08/24  08:37 AM  Check-out   \n",
       "125  0292627163  21/08/24  08:28 AM   Check-in   \n",
       "\n",
       "                              station amount  \n",
       "0          Business Bay Metro Station    7.5  \n",
       "1    World Trade Centre Metro Station   -7.5  \n",
       "2    World Trade Centre Metro Station    7.5  \n",
       "3          Business Bay Metro Station   -7.5  \n",
       "4          Business Bay Metro Station    7.5  \n",
       "..                                ...    ...  \n",
       "121     Emirates Towers Metro Station   -7.5  \n",
       "122     Emirates Towers Metro Station    7.5  \n",
       "123  World Trade Centre Metro Station   -7.5  \n",
       "124  World Trade Centre Metro Station    7.5  \n",
       "125        Business Bay Metro Station   -7.5  \n",
       "\n",
       "[126 rows x 6 columns]"
      ]
     },
     "execution_count": 51,
     "metadata": {},
     "output_type": "execute_result"
    }
   ],
   "source": [
    "import pandas as pd\n",
    "from datetime import datetime\n",
    "\n",
    "date_time = datetime.now().strftime(\"%Y_%m_%d_%H_%M_%S\")\n",
    "df = pd.DataFrame(travels, columns=[\"nol_tag_id\", \"date\", \"time\", \"event\", \"station\", \"amount\"])\n",
    "df.to_csv(f\"travel_history_{date_time}.csv\", index=False)\n",
    "df"
   ]
  },
  {
   "cell_type": "code",
   "execution_count": null,
   "metadata": {},
   "outputs": [],
   "source": []
  }
 ],
 "metadata": {
  "kernelspec": {
   "display_name": ".venv",
   "language": "python",
   "name": "python3"
  },
  "language_info": {
   "codemirror_mode": {
    "name": "ipython",
    "version": 3
   },
   "file_extension": ".py",
   "mimetype": "text/x-python",
   "name": "python",
   "nbconvert_exporter": "python",
   "pygments_lexer": "ipython3",
   "version": "3.12.6"
  }
 },
 "nbformat": 4,
 "nbformat_minor": 2
}
