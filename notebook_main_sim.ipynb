{
 "cells": [
  {
   "cell_type": "code",
   "execution_count": 1,
   "metadata": {},
   "outputs": [],
   "source": [
    "import os\n",
    "from datetime import datetime\n",
    "from dotenv import load_dotenv\n",
    "from rta_extractor import RtaExtractor\n",
    "\n",
    "# Inputs/ENV\n",
    "load_dotenv()\n",
    "RTA_USERNAME = os.getenv(\"RTA_USERNAME\")\n",
    "RTA_PASSWORD = os.getenv(\"RTA_PASSWORD\")\n",
    "NOL_CARD = os.getenv(\"RTA_NOL_CARD\")\n",
    "\n",
    "# Init\n",
    "rta_extractor = RtaExtractor(RTA_USERNAME, RTA_PASSWORD, NOL_CARD)\n",
    "\n",
    "# Step 1\n",
    "rta_extractor.login()"
   ]
  },
  {
   "cell_type": "code",
   "execution_count": 2,
   "metadata": {},
   "outputs": [],
   "source": [
    "# Step 2\n",
    "self = rta_extractor\n",
    "self.driver.get(self.TRANSACTIONS_URL)\n"
   ]
  },
  {
   "cell_type": "code",
   "execution_count": 6,
   "metadata": {},
   "outputs": [
    {
     "name": "stdout",
     "output_type": "stream",
     "text": [
      "driver.get\n"
     ]
    }
   ],
   "source": [
    "from selenium.webdriver.common.by import By\n",
    "import time\n",
    "\n",
    "self.driver.get(self.TRANSACTIONS_URL)\n",
    "print(\"driver.get\")\n",
    "time.sleep(0.74)"
   ]
  },
  {
   "cell_type": "code",
   "execution_count": 7,
   "metadata": {},
   "outputs": [
    {
     "name": "stdout",
     "output_type": "stream",
     "text": [
      "wait/sleep\n",
      "find tag number\n",
      "find tag number wait\n",
      "find tag number click\n"
     ]
    }
   ],
   "source": [
    "\n",
    "print(\"wait/sleep\")\n",
    "type = self.driver.find_element(by=By.CSS_SELECTOR, value=self.ENTER_TAG_NUMBER_CSS)\n",
    "print(\"find tag number\")\n",
    "self.wait_for_it(type)\n",
    "print(\"find tag number wait\")\n",
    "type.click()\n",
    "print(\"find tag number click\")\n",
    "self.driver.find_element(by=By.NAME, value=\"tagId\").send_keys(self.RTA_NOL_CARD)\n"
   ]
  },
  {
   "cell_type": "code",
   "execution_count": 8,
   "metadata": {},
   "outputs": [
    {
     "name": "stdout",
     "output_type": "stream",
     "text": [
      "Audio source URL: https://www.google.com/recaptcha/api2/payload?p=06AFcWeA5I_tlyEslUhDKxGY2HuP_6pHT_-p1xzCVG0_N8xO61Gc4NPE-trqeWpZ9qcX7g5bKMI6yXfq2qmDC4ZEjxpCgWaJTXS4I2dF8me7yX6UVX3rrW5KRtfqzZqEQ4mBRO9bDg1o3nTnRb4oDovirB3VgnQ9nlWtdX_ou8FNIwMOv6ry6gGb1J3rz0PESJ_9pyKNcrZrS0&k=6LfFORsUAAAAAIDChZM0z7CwNdpfjYQPidiHVYll\n",
      "An error occurred while solving audio CAPTCHA: asyncio.run() cannot be called from a running event loop\n",
      "An error occurred while solving CAPTCHA: asyncio.run() cannot be called from a running event loop\n"
     ]
    },
    {
     "ename": "RuntimeError",
     "evalue": "asyncio.run() cannot be called from a running event loop",
     "output_type": "error",
     "traceback": [
      "\u001b[0;31m---------------------------------------------------------------------------\u001b[0m",
      "\u001b[0;31mRuntimeError\u001b[0m                              Traceback (most recent call last)",
      "Cell \u001b[0;32mIn[8], line 4\u001b[0m\n\u001b[1;32m      1\u001b[0m \u001b[38;5;28;01mfrom\u001b[39;00m \u001b[38;5;21;01mRecaptchaSolver\u001b[39;00m \u001b[38;5;28;01mimport\u001b[39;00m RecaptchaSolver \u001b[38;5;28;01mas\u001b[39;00m RecaptchaSolverV2\n\u001b[1;32m      3\u001b[0m recaptchaSolver \u001b[38;5;241m=\u001b[39m RecaptchaSolverV2(\u001b[38;5;28mself\u001b[39m\u001b[38;5;241m.\u001b[39mdriver)\n\u001b[0;32m----> 4\u001b[0m \u001b[43mrecaptchaSolver\u001b[49m\u001b[38;5;241;43m.\u001b[39;49m\u001b[43msolveCaptcha\u001b[49m\u001b[43m(\u001b[49m\u001b[43m)\u001b[49m\n",
      "File \u001b[0;32m~/Documents/Projects/Python/RTA.AE_fast_transaction_history/RecaptchaSolver.py:46\u001b[0m, in \u001b[0;36mRecaptchaSolver.solveCaptcha\u001b[0;34m(self)\u001b[0m\n\u001b[1;32m     43\u001b[0m         \u001b[38;5;28;01mreturn\u001b[39;00m\n\u001b[1;32m     45\u001b[0m     \u001b[38;5;66;03m# If not solved, attempt audio CAPTCHA solving\u001b[39;00m\n\u001b[0;32m---> 46\u001b[0m     \u001b[38;5;28;43mself\u001b[39;49m\u001b[38;5;241;43m.\u001b[39;49m\u001b[43msolveAudioCaptcha\u001b[49m\u001b[43m(\u001b[49m\u001b[43m)\u001b[49m\n\u001b[1;32m     48\u001b[0m \u001b[38;5;28;01mexcept\u001b[39;00m \u001b[38;5;167;01mException\u001b[39;00m \u001b[38;5;28;01mas\u001b[39;00m e:\n\u001b[1;32m     49\u001b[0m     \u001b[38;5;28mprint\u001b[39m(\u001b[38;5;124mf\u001b[39m\u001b[38;5;124m\"\u001b[39m\u001b[38;5;124mAn error occurred while solving CAPTCHA: \u001b[39m\u001b[38;5;132;01m{\u001b[39;00me\u001b[38;5;132;01m}\u001b[39;00m\u001b[38;5;124m\"\u001b[39m)\n",
      "File \u001b[0;32m~/Documents/Projects/Python/RTA.AE_fast_transaction_history/RecaptchaSolver.py:79\u001b[0m, in \u001b[0;36mRecaptchaSolver.solveAudioCaptcha\u001b[0;34m(self)\u001b[0m\n\u001b[1;32m     76\u001b[0m path_to_mp3 \u001b[38;5;241m=\u001b[39m os\u001b[38;5;241m.\u001b[39mpath\u001b[38;5;241m.\u001b[39mnormpath(os\u001b[38;5;241m.\u001b[39mpath\u001b[38;5;241m.\u001b[39mjoin(temp_dir, \u001b[38;5;124mf\u001b[39m\u001b[38;5;124m\"\u001b[39m\u001b[38;5;132;01m{\u001b[39;00mrandom\u001b[38;5;241m.\u001b[39mrandrange(\u001b[38;5;241m1\u001b[39m,\u001b[38;5;250m \u001b[39m\u001b[38;5;241m1000\u001b[39m)\u001b[38;5;132;01m}\u001b[39;00m\u001b[38;5;124m.mp3\u001b[39m\u001b[38;5;124m\"\u001b[39m))\n\u001b[1;32m     77\u001b[0m path_to_wav \u001b[38;5;241m=\u001b[39m os\u001b[38;5;241m.\u001b[39mpath\u001b[38;5;241m.\u001b[39mnormpath(os\u001b[38;5;241m.\u001b[39mpath\u001b[38;5;241m.\u001b[39mjoin(temp_dir, \u001b[38;5;124mf\u001b[39m\u001b[38;5;124m\"\u001b[39m\u001b[38;5;132;01m{\u001b[39;00mrandom\u001b[38;5;241m.\u001b[39mrandrange(\u001b[38;5;241m1\u001b[39m,\u001b[38;5;250m \u001b[39m\u001b[38;5;241m1000\u001b[39m)\u001b[38;5;132;01m}\u001b[39;00m\u001b[38;5;124m.wav\u001b[39m\u001b[38;5;124m\"\u001b[39m))\n\u001b[0;32m---> 79\u001b[0m \u001b[43masyncio\u001b[49m\u001b[38;5;241;43m.\u001b[39;49m\u001b[43mrun\u001b[49m\u001b[43m(\u001b[49m\u001b[38;5;28;43mself\u001b[39;49m\u001b[38;5;241;43m.\u001b[39;49m\u001b[43mdownload_audio\u001b[49m\u001b[43m(\u001b[49m\u001b[43maudio_source\u001b[49m\u001b[43m,\u001b[49m\u001b[43m \u001b[49m\u001b[43mpath_to_mp3\u001b[49m\u001b[43m)\u001b[49m\u001b[43m)\u001b[49m\n\u001b[1;32m     81\u001b[0m \u001b[38;5;66;03m# Convert mp3 to wav\u001b[39;00m\n\u001b[1;32m     82\u001b[0m sound \u001b[38;5;241m=\u001b[39m AudioSegment\u001b[38;5;241m.\u001b[39mfrom_mp3(path_to_mp3)\n",
      "File \u001b[0;32m/usr/lib/python3.12/asyncio/runners.py:190\u001b[0m, in \u001b[0;36mrun\u001b[0;34m(main, debug, loop_factory)\u001b[0m\n\u001b[1;32m    161\u001b[0m \u001b[38;5;250m\u001b[39m\u001b[38;5;124;03m\"\"\"Execute the coroutine and return the result.\u001b[39;00m\n\u001b[1;32m    162\u001b[0m \n\u001b[1;32m    163\u001b[0m \u001b[38;5;124;03mThis function runs the passed coroutine, taking care of\u001b[39;00m\n\u001b[0;32m   (...)\u001b[0m\n\u001b[1;32m    186\u001b[0m \u001b[38;5;124;03m    asyncio.run(main())\u001b[39;00m\n\u001b[1;32m    187\u001b[0m \u001b[38;5;124;03m\"\"\"\u001b[39;00m\n\u001b[1;32m    188\u001b[0m \u001b[38;5;28;01mif\u001b[39;00m events\u001b[38;5;241m.\u001b[39m_get_running_loop() \u001b[38;5;129;01mis\u001b[39;00m \u001b[38;5;129;01mnot\u001b[39;00m \u001b[38;5;28;01mNone\u001b[39;00m:\n\u001b[1;32m    189\u001b[0m     \u001b[38;5;66;03m# fail fast with short traceback\u001b[39;00m\n\u001b[0;32m--> 190\u001b[0m     \u001b[38;5;28;01mraise\u001b[39;00m \u001b[38;5;167;01mRuntimeError\u001b[39;00m(\n\u001b[1;32m    191\u001b[0m         \u001b[38;5;124m\"\u001b[39m\u001b[38;5;124masyncio.run() cannot be called from a running event loop\u001b[39m\u001b[38;5;124m\"\u001b[39m)\n\u001b[1;32m    193\u001b[0m \u001b[38;5;28;01mwith\u001b[39;00m Runner(debug\u001b[38;5;241m=\u001b[39mdebug, loop_factory\u001b[38;5;241m=\u001b[39mloop_factory) \u001b[38;5;28;01mas\u001b[39;00m runner:\n\u001b[1;32m    194\u001b[0m     \u001b[38;5;28;01mreturn\u001b[39;00m runner\u001b[38;5;241m.\u001b[39mrun(main)\n",
      "\u001b[0;31mRuntimeError\u001b[0m: asyncio.run() cannot be called from a running event loop"
     ]
    }
   ],
   "source": [
    "from RecaptchaSolver import RecaptchaSolver as RecaptchaSolverV2\n",
    "\n",
    "recaptchaSolver = RecaptchaSolverV2(self.driver)\n",
    "recaptchaSolver.solveCaptcha()\n"
   ]
  },
  {
   "cell_type": "code",
   "execution_count": 7,
   "metadata": {},
   "outputs": [
    {
     "name": "stdout",
     "output_type": "stream",
     "text": [
      "Solving\n",
      "len captchas:  1\n",
      "Solved\n"
     ]
    }
   ],
   "source": [
    "\n",
    "print(\"Solving\")\n",
    "self.recaptcha_solver()\n",
    "print(\"Solved\")"
   ]
  },
  {
   "cell_type": "code",
   "execution_count": null,
   "metadata": {},
   "outputs": [],
   "source": [
    "\n",
    "btn = self.driver.find_element(by=By.CSS_SELECTOR, value=\"button.btn\")\n",
    "print(\"Found BTN\")\n",
    "btn.click()\n",
    "print(\"Clicked BTN\")"
   ]
  },
  {
   "cell_type": "code",
   "execution_count": null,
   "metadata": {},
   "outputs": [],
   "source": [
    "\n",
    "# # Step 2\n",
    "# rta_extractor.fill_form()\n",
    "\n",
    "# # Step 3\n",
    "# travels = rta_extractor.get_travels()\n",
    "\n",
    "# # Enjoy the data\n",
    "# df = RtaExtractor.to_df(travels)\n",
    "\n",
    "# # Save it for later\n",
    "# date_time = datetime.now().strftime(\"%Y_%m_%d_%H_%M_%S\")\n",
    "# df.to_csv(f\"travel_history_{date_time}.csv\", index=False)"
   ]
  }
 ],
 "metadata": {
  "kernelspec": {
   "display_name": ".venv",
   "language": "python",
   "name": "python3"
  },
  "language_info": {
   "codemirror_mode": {
    "name": "ipython",
    "version": 3
   },
   "file_extension": ".py",
   "mimetype": "text/x-python",
   "name": "python",
   "nbconvert_exporter": "python",
   "pygments_lexer": "ipython3",
   "version": "3.12.6"
  }
 },
 "nbformat": 4,
 "nbformat_minor": 2
}
